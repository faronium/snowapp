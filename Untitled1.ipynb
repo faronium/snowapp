{
 "cells": [
  {
   "cell_type": "code",
   "execution_count": 1,
   "id": "geological-aquatic",
   "metadata": {
    "tags": []
   },
   "outputs": [],
   "source": [
    "import pandas as pd\n",
    "import numpy as np\n",
    "import scipy as sp\n",
    "import chart_studio.plotly as py\n",
    "import plotly.figure_factory as ff\n",
    "import pandas as pd\n"
   ]
  },
  {
   "cell_type": "code",
   "execution_count": 2,
   "id": "inappropriate-riding",
   "metadata": {
    "tags": []
   },
   "outputs": [
    {
     "name": "stdout",
     "output_type": "stream",
     "text": [
      "        School  Women  Men  Gap\n",
      "0          MIT     94  152   58\n",
      "1     Stanford     96  151   55\n",
      "2      Harvard    112  165   53\n",
      "3       U.Penn     92  141   49\n",
      "4    Princeton     90  137   47\n",
      "5      Chicago     78  118   40\n",
      "6   Georgetown     94  131   37\n",
      "7        Tufts     76  112   36\n",
      "8         Yale     79  114   35\n",
      "9     Columbia     86  119   33\n",
      "10        Duke     93  124   31\n",
      "11   Dartmouth     84  114   30\n",
      "12         NYU     67   94   27\n",
      "13  Notre Dame     73  100   27\n",
      "14     Cornell     80  107   27\n",
      "15    Michigan     62   84   22\n",
      "16       Brown     72   92   20\n",
      "17    Berkeley     71   88   17\n",
      "18       Emory     68   82   14\n",
      "19        UCLA     64   78   14\n",
      "20       SoCal     72   81    9\n"
     ]
    }
   ],
   "source": [
    "df = pd.read_csv(\"https://raw.githubusercontent.com/plotly/datasets/master/school_earnings.csv\")\n",
    "print(df)"
   ]
  },
  {
   "cell_type": "code",
   "execution_count": null,
   "id": "useful-brazilian",
   "metadata": {
    "tags": []
   },
   "outputs": [],
   "source": [
    "table = ff.create_table(df)"
   ]
  },
  {
   "cell_type": "code",
   "execution_count": null,
   "id": "hispanic-cover",
   "metadata": {
    "tags": []
   },
   "outputs": [],
   "source": [
    "py.iplot(table, filename='jupyter-table1')"
   ]
  },
  {
   "cell_type": "code",
   "execution_count": 1,
   "id": "oriental-intellectual",
   "metadata": {},
   "outputs": [
    {
     "name": "stdout",
     "output_type": "stream",
     "text": [
      "hi\n"
     ]
    }
   ],
   "source": [
    "print('hi')"
   ]
  },
  {
   "cell_type": "code",
   "execution_count": null,
   "id": "municipal-outside",
   "metadata": {},
   "outputs": [],
   "source": []
  }
 ],
 "metadata": {
  "kernelspec": {
   "display_name": "Python 3 (ipykernel)",
   "language": "python",
   "name": "python3"
  },
  "language_info": {
   "codemirror_mode": {
    "name": "ipython",
    "version": 3
   },
   "file_extension": ".py",
   "mimetype": "text/x-python",
   "name": "python",
   "nbconvert_exporter": "python",
   "pygments_lexer": "ipython3",
   "version": "3.8.10"
  }
 },
 "nbformat": 4,
 "nbformat_minor": 5
}
