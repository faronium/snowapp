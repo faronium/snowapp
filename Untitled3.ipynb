{
 "cells": [
  {
   "cell_type": "code",
   "execution_count": 3,
   "id": "characteristic-negative",
   "metadata": {},
   "outputs": [
    {
     "ename": "ERROR",
     "evalue": "Error in ogrInfo(dsn = dsn, layer = layer, encoding = encoding, use_iconv = use_iconv, : Cannot open data source\n",
     "output_type": "error",
     "traceback": [
      "Error in ogrInfo(dsn = dsn, layer = layer, encoding = encoding, use_iconv = use_iconv, : Cannot open data source\nTraceback:\n",
      "1. source(\"/home/fanslow/Work/code/crmp_fanslow/bc_interpolation_workflow.r\")",
      "2. withVisible(eval(ei, envir))",
      "3. eval(ei, envir)",
      "4. eval(ei, envir)",
      "5. source(\"/home/fanslow/Work/code/crmp_fanslow/scr_utilities.r\")",
      "6. withVisible(eval(ei, envir))",
      "7. eval(ei, envir)",
      "8. eval(ei, envir)",
      "9. source(\"/home/fanslow/Work/code/crmp_fanslow/crmp_climo_utils.r\")",
      "10. withVisible(eval(ei, envir))",
      "11. eval(ei, envir)",
      "12. eval(ei, envir)",
      "13. readOGR(\"/storage/data/projects/crmp/gis/\", \"bc_province\", stringsAsFactors = F)",
      "14. suppressMessages(ogr_info <- ogrInfo(dsn = dsn, layer = layer, \n  .     encoding = encoding, use_iconv = use_iconv, swapAxisOrder = swapAxisOrder, \n  .     require_geomType = require_geomType, morphFromESRI = morphFromESRI, \n  .     dumpSRS = dumpSRS))",
      "15. withCallingHandlers(expr, message = function(c) invokeRestart(\"muffleMessage\"))",
      "16. ogrInfo(dsn = dsn, layer = layer, encoding = encoding, use_iconv = use_iconv, \n  .     swapAxisOrder = swapAxisOrder, require_geomType = require_geomType, \n  .     morphFromESRI = morphFromESRI, dumpSRS = dumpSRS)"
     ]
    }
   ],
   "source": [
    "source('/home/fanslow/Work/code/crmp_fanslow/bc_interpolation_workflow.r')"
   ]
  },
  {
   "cell_type": "code",
   "execution_count": null,
   "id": "local-license",
   "metadata": {},
   "outputs": [],
   "source": []
  },
  {
   "cell_type": "code",
   "execution_count": null,
   "id": "nonprofit-geography",
   "metadata": {},
   "outputs": [],
   "source": []
  }
 ],
 "metadata": {
  "kernelspec": {
   "display_name": "R",
   "language": "R",
   "name": "ir"
  },
  "language_info": {
   "codemirror_mode": "r",
   "file_extension": ".r",
   "mimetype": "text/x-r-source",
   "name": "R",
   "pygments_lexer": "r",
   "version": "3.6.3"
  }
 },
 "nbformat": 4,
 "nbformat_minor": 5
}
