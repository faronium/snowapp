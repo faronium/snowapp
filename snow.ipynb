{
 "cells": [
  {
   "cell_type": "markdown",
   "id": "033e4fd4-57f9-49eb-b539-50c5c354aff8",
   "metadata": {},
   "source": [
    "# Snow Data\n",
    "\n",
    "Tool to import archived snow data and manipulate it using python pandas. Eventually\n",
    "to plot with plotlinkedinly/dash app of some kind."
   ]
  },
  {
   "cell_type": "code",
   "execution_count": 99,
   "id": "687c9a87-a8a5-4316-b4dd-690336269515",
   "metadata": {},
   "outputs": [
    {
     "data": {
      "text/html": [
       "<div>\n",
       "<style scoped>\n",
       "    .dataframe tbody tr th:only-of-type {\n",
       "        vertical-align: middle;\n",
       "    }\n",
       "\n",
       "    .dataframe tbody tr th {\n",
       "        vertical-align: top;\n",
       "    }\n",
       "\n",
       "    .dataframe thead th {\n",
       "        text-align: right;\n",
       "    }\n",
       "</style>\n",
       "<table border=\"1\" class=\"dataframe\">\n",
       "  <thead>\n",
       "    <tr style=\"text-align: right;\">\n",
       "      <th></th>\n",
       "      <th>1A02P McBride Upper</th>\n",
       "      <th>1A03P Barkerville</th>\n",
       "      <th>1A05P Longworth Upper</th>\n",
       "      <th>1A12P Kaza Lake</th>\n",
       "      <th>1A14P Hedrick Lake</th>\n",
       "      <th>1A15P Knudsen Lake</th>\n",
       "      <th>1A17P Revolution Creek</th>\n",
       "      <th>1A19P Dome Mountain</th>\n",
       "      <th>1B01P Mount Wells</th>\n",
       "      <th>1B02P Tahtsa Lake</th>\n",
       "      <th>...</th>\n",
       "      <th>4C11P Bluff Creek</th>\n",
       "      <th>4C20P Sierra Climate</th>\n",
       "      <th>4C21P Two Island Climate</th>\n",
       "      <th>4C22P Kiwigana Climate</th>\n",
       "      <th>4D08P Forrest-Kerr Creek</th>\n",
       "      <th>4D10P Tumeka Creek</th>\n",
       "      <th>4D11P Kinaskan Lake</th>\n",
       "      <th>4D14P Wade Lake</th>\n",
       "      <th>4D16P Forrest Kerr Mid Elevation Snow</th>\n",
       "      <th>4D17P Forrest Kerr High Elevation Snow</th>\n",
       "    </tr>\n",
       "  </thead>\n",
       "  <tbody>\n",
       "    <tr>\n",
       "      <th>count</th>\n",
       "      <td>9297.000000</td>\n",
       "      <td>17055.000000</td>\n",
       "      <td>2555.000000</td>\n",
       "      <td>2507.000000</td>\n",
       "      <td>8614.000000</td>\n",
       "      <td>2741.000000</td>\n",
       "      <td>14110.000000</td>\n",
       "      <td>6444.000000</td>\n",
       "      <td>11135.000000</td>\n",
       "      <td>12313.000000</td>\n",
       "      <td>...</td>\n",
       "      <td>2869.000000</td>\n",
       "      <td>1753.000000</td>\n",
       "      <td>1684.000000</td>\n",
       "      <td>1454.000000</td>\n",
       "      <td>3789.000000</td>\n",
       "      <td>8852.000000</td>\n",
       "      <td>9982.000000</td>\n",
       "      <td>6648.00000</td>\n",
       "      <td>2710.000000</td>\n",
       "      <td>2741.000000</td>\n",
       "    </tr>\n",
       "    <tr>\n",
       "      <th>mean</th>\n",
       "      <td>129.774121</td>\n",
       "      <td>124.221812</td>\n",
       "      <td>392.271233</td>\n",
       "      <td>122.575588</td>\n",
       "      <td>313.242860</td>\n",
       "      <td>321.738417</td>\n",
       "      <td>335.846704</td>\n",
       "      <td>340.697703</td>\n",
       "      <td>237.415806</td>\n",
       "      <td>512.675627</td>\n",
       "      <td>...</td>\n",
       "      <td>72.539212</td>\n",
       "      <td>30.166001</td>\n",
       "      <td>38.849762</td>\n",
       "      <td>27.231774</td>\n",
       "      <td>176.509633</td>\n",
       "      <td>228.661319</td>\n",
       "      <td>133.428171</td>\n",
       "      <td>139.51414</td>\n",
       "      <td>409.763100</td>\n",
       "      <td>632.003283</td>\n",
       "    </tr>\n",
       "    <tr>\n",
       "      <th>std</th>\n",
       "      <td>192.418406</td>\n",
       "      <td>145.284426</td>\n",
       "      <td>393.550451</td>\n",
       "      <td>132.297578</td>\n",
       "      <td>358.147732</td>\n",
       "      <td>357.635361</td>\n",
       "      <td>366.745955</td>\n",
       "      <td>339.659365</td>\n",
       "      <td>245.287963</td>\n",
       "      <td>547.575450</td>\n",
       "      <td>...</td>\n",
       "      <td>108.974542</td>\n",
       "      <td>42.590815</td>\n",
       "      <td>50.615587</td>\n",
       "      <td>42.494167</td>\n",
       "      <td>208.875717</td>\n",
       "      <td>232.098169</td>\n",
       "      <td>159.810826</td>\n",
       "      <td>147.49929</td>\n",
       "      <td>395.192021</td>\n",
       "      <td>541.946884</td>\n",
       "    </tr>\n",
       "    <tr>\n",
       "      <th>min</th>\n",
       "      <td>0.000000</td>\n",
       "      <td>0.000000</td>\n",
       "      <td>0.000000</td>\n",
       "      <td>0.000000</td>\n",
       "      <td>0.000000</td>\n",
       "      <td>0.000000</td>\n",
       "      <td>0.000000</td>\n",
       "      <td>0.000000</td>\n",
       "      <td>0.000000</td>\n",
       "      <td>0.000000</td>\n",
       "      <td>...</td>\n",
       "      <td>0.000000</td>\n",
       "      <td>0.000000</td>\n",
       "      <td>0.000000</td>\n",
       "      <td>0.000000</td>\n",
       "      <td>0.000000</td>\n",
       "      <td>0.000000</td>\n",
       "      <td>0.000000</td>\n",
       "      <td>0.00000</td>\n",
       "      <td>0.000000</td>\n",
       "      <td>0.000000</td>\n",
       "    </tr>\n",
       "    <tr>\n",
       "      <th>25%</th>\n",
       "      <td>0.000000</td>\n",
       "      <td>0.000000</td>\n",
       "      <td>0.000000</td>\n",
       "      <td>0.000000</td>\n",
       "      <td>0.000000</td>\n",
       "      <td>0.000000</td>\n",
       "      <td>0.000000</td>\n",
       "      <td>0.000000</td>\n",
       "      <td>0.000000</td>\n",
       "      <td>0.000000</td>\n",
       "      <td>...</td>\n",
       "      <td>0.000000</td>\n",
       "      <td>0.000000</td>\n",
       "      <td>0.000000</td>\n",
       "      <td>0.000000</td>\n",
       "      <td>0.000000</td>\n",
       "      <td>0.000000</td>\n",
       "      <td>0.000000</td>\n",
       "      <td>0.00000</td>\n",
       "      <td>2.000000</td>\n",
       "      <td>135.000000</td>\n",
       "    </tr>\n",
       "    <tr>\n",
       "      <th>50%</th>\n",
       "      <td>0.000000</td>\n",
       "      <td>56.000000</td>\n",
       "      <td>306.000000</td>\n",
       "      <td>70.000000</td>\n",
       "      <td>176.000000</td>\n",
       "      <td>224.000000</td>\n",
       "      <td>203.000000</td>\n",
       "      <td>261.000000</td>\n",
       "      <td>171.000000</td>\n",
       "      <td>351.000000</td>\n",
       "      <td>...</td>\n",
       "      <td>0.000000</td>\n",
       "      <td>0.000000</td>\n",
       "      <td>13.000000</td>\n",
       "      <td>0.000000</td>\n",
       "      <td>52.000000</td>\n",
       "      <td>174.000000</td>\n",
       "      <td>56.000000</td>\n",
       "      <td>94.00000</td>\n",
       "      <td>346.500000</td>\n",
       "      <td>575.000000</td>\n",
       "    </tr>\n",
       "    <tr>\n",
       "      <th>75%</th>\n",
       "      <td>252.000000</td>\n",
       "      <td>236.000000</td>\n",
       "      <td>685.000000</td>\n",
       "      <td>243.000000</td>\n",
       "      <td>573.750000</td>\n",
       "      <td>504.000000</td>\n",
       "      <td>608.000000</td>\n",
       "      <td>608.000000</td>\n",
       "      <td>437.000000</td>\n",
       "      <td>955.000000</td>\n",
       "      <td>...</td>\n",
       "      <td>132.000000</td>\n",
       "      <td>62.000000</td>\n",
       "      <td>71.000000</td>\n",
       "      <td>36.000000</td>\n",
       "      <td>344.000000</td>\n",
       "      <td>402.000000</td>\n",
       "      <td>247.000000</td>\n",
       "      <td>259.00000</td>\n",
       "      <td>670.750000</td>\n",
       "      <td>948.000000</td>\n",
       "    </tr>\n",
       "    <tr>\n",
       "      <th>max</th>\n",
       "      <td>754.000000</td>\n",
       "      <td>556.000000</td>\n",
       "      <td>1412.000000</td>\n",
       "      <td>425.000000</td>\n",
       "      <td>1329.000000</td>\n",
       "      <td>1446.000000</td>\n",
       "      <td>1379.000000</td>\n",
       "      <td>1223.000000</td>\n",
       "      <td>957.000000</td>\n",
       "      <td>2360.000000</td>\n",
       "      <td>...</td>\n",
       "      <td>369.000000</td>\n",
       "      <td>167.000000</td>\n",
       "      <td>199.000000</td>\n",
       "      <td>162.000000</td>\n",
       "      <td>822.000000</td>\n",
       "      <td>881.000000</td>\n",
       "      <td>668.000000</td>\n",
       "      <td>558.00000</td>\n",
       "      <td>1335.000000</td>\n",
       "      <td>2158.000000</td>\n",
       "    </tr>\n",
       "  </tbody>\n",
       "</table>\n",
       "<p>8 rows × 118 columns</p>\n",
       "</div>"
      ],
      "text/plain": [
       "       1A02P McBride Upper  1A03P Barkerville  1A05P Longworth Upper  \\\n",
       "count          9297.000000       17055.000000            2555.000000   \n",
       "mean            129.774121         124.221812             392.271233   \n",
       "std             192.418406         145.284426             393.550451   \n",
       "min               0.000000           0.000000               0.000000   \n",
       "25%               0.000000           0.000000               0.000000   \n",
       "50%               0.000000          56.000000             306.000000   \n",
       "75%             252.000000         236.000000             685.000000   \n",
       "max             754.000000         556.000000            1412.000000   \n",
       "\n",
       "       1A12P Kaza Lake  1A14P Hedrick Lake  1A15P Knudsen Lake  \\\n",
       "count      2507.000000         8614.000000         2741.000000   \n",
       "mean        122.575588          313.242860          321.738417   \n",
       "std         132.297578          358.147732          357.635361   \n",
       "min           0.000000            0.000000            0.000000   \n",
       "25%           0.000000            0.000000            0.000000   \n",
       "50%          70.000000          176.000000          224.000000   \n",
       "75%         243.000000          573.750000          504.000000   \n",
       "max         425.000000         1329.000000         1446.000000   \n",
       "\n",
       "       1A17P Revolution Creek  1A19P Dome Mountain  1B01P Mount Wells  \\\n",
       "count            14110.000000          6444.000000       11135.000000   \n",
       "mean               335.846704           340.697703         237.415806   \n",
       "std                366.745955           339.659365         245.287963   \n",
       "min                  0.000000             0.000000           0.000000   \n",
       "25%                  0.000000             0.000000           0.000000   \n",
       "50%                203.000000           261.000000         171.000000   \n",
       "75%                608.000000           608.000000         437.000000   \n",
       "max               1379.000000          1223.000000         957.000000   \n",
       "\n",
       "       1B02P Tahtsa Lake  ...  4C11P Bluff Creek  4C20P Sierra Climate  \\\n",
       "count       12313.000000  ...        2869.000000           1753.000000   \n",
       "mean          512.675627  ...          72.539212             30.166001   \n",
       "std           547.575450  ...         108.974542             42.590815   \n",
       "min             0.000000  ...           0.000000              0.000000   \n",
       "25%             0.000000  ...           0.000000              0.000000   \n",
       "50%           351.000000  ...           0.000000              0.000000   \n",
       "75%           955.000000  ...         132.000000             62.000000   \n",
       "max          2360.000000  ...         369.000000            167.000000   \n",
       "\n",
       "       4C21P Two Island Climate  4C22P Kiwigana Climate  \\\n",
       "count               1684.000000             1454.000000   \n",
       "mean                  38.849762               27.231774   \n",
       "std                   50.615587               42.494167   \n",
       "min                    0.000000                0.000000   \n",
       "25%                    0.000000                0.000000   \n",
       "50%                   13.000000                0.000000   \n",
       "75%                   71.000000               36.000000   \n",
       "max                  199.000000              162.000000   \n",
       "\n",
       "       4D08P Forrest-Kerr Creek  4D10P Tumeka Creek  4D11P Kinaskan Lake  \\\n",
       "count               3789.000000         8852.000000          9982.000000   \n",
       "mean                 176.509633          228.661319           133.428171   \n",
       "std                  208.875717          232.098169           159.810826   \n",
       "min                    0.000000            0.000000             0.000000   \n",
       "25%                    0.000000            0.000000             0.000000   \n",
       "50%                   52.000000          174.000000            56.000000   \n",
       "75%                  344.000000          402.000000           247.000000   \n",
       "max                  822.000000          881.000000           668.000000   \n",
       "\n",
       "       4D14P Wade Lake  4D16P Forrest Kerr Mid Elevation Snow  \\\n",
       "count       6648.00000                            2710.000000   \n",
       "mean         139.51414                             409.763100   \n",
       "std          147.49929                             395.192021   \n",
       "min            0.00000                               0.000000   \n",
       "25%            0.00000                               2.000000   \n",
       "50%           94.00000                             346.500000   \n",
       "75%          259.00000                             670.750000   \n",
       "max          558.00000                            1335.000000   \n",
       "\n",
       "       4D17P Forrest Kerr High Elevation Snow  \n",
       "count                             2741.000000  \n",
       "mean                               632.003283  \n",
       "std                                541.946884  \n",
       "min                                  0.000000  \n",
       "25%                                135.000000  \n",
       "50%                                575.000000  \n",
       "75%                                948.000000  \n",
       "max                               2158.000000  \n",
       "\n",
       "[8 rows x 118 columns]"
      ]
     },
     "execution_count": 99,
     "metadata": {},
     "output_type": "execute_result"
    }
   ],
   "source": [
    "import pandas as pd\n",
    "import numpy as np\n",
    "import matplotlib.pyplot as plt\n",
    "from dash import Dash, html, dcc, Input, Output, callback\n",
    "\n",
    "from datetime import datetime\n",
    "\n",
    "df = pd.read_csv('./snow/SW_DailyArchive.csv',index_col=[0],parse_dates=[0]) #Here the [0] tells fxn to parse first column\n",
    "len(df)\n",
    "df.describe()"
   ]
  },
  {
   "cell_type": "code",
   "execution_count": 104,
   "id": "9c0a00c7-a43d-4b16-a83f-b51fb31a34f0",
   "metadata": {},
   "outputs": [
    {
     "data": {
      "text/plain": [
       "Index(['16', '18', '20', '22', '00', '02', '04', '06', '08', '10', '12', '14',\n",
       "       '17', '19', '21', '23', '01', '03', '05', '07', '09', '11', '13', '15'],\n",
       "      dtype='object', name='DATE(UTC)')"
      ]
     },
     "execution_count": 104,
     "metadata": {},
     "output_type": "execute_result"
    }
   ],
   "source": [
    "#Deal with the non-daily observations. Most are on the 16:00, some are on the 00:00 and others are on the even hour.\n",
    "df.index.strftime('%H').unique()"
   ]
  },
  {
   "cell_type": "markdown",
   "id": "481b4b8e-5fab-4c80-9bd2-ef49499c870c",
   "metadata": {},
   "source": [
    "\n",
    "Looks like there are six stations that have data on the even hour at some point in their record. These are '1A02P McBride Upper', '1B02P Tahtsa Lake', '1B08P Mt. Pondosy', '2F18P Brenda Mine', '3A25P Squamish River Upper', '3A28P Tetrahedron'. In all of these stations, the hourly data is in addition to the data reported at 16:00. So, can safely drop all of the excess data without worry. "
   ]
  },
  {
   "cell_type": "code",
   "execution_count": 105,
   "id": "f8db17e5-96e6-480c-a21f-8cadad962349",
   "metadata": {},
   "outputs": [
    {
     "data": {
      "text/plain": [
       "Index(['16', '00'], dtype='object', name='DATE(UTC)')"
      ]
     },
     "execution_count": 105,
     "metadata": {},
     "output_type": "execute_result"
    }
   ],
   "source": [
    "plt.close(\"all\")\n",
    "df[df.index.strftime('%H').isin(['01','02','03','04','05','06','07','08','09','10','11',\n",
    "                                       '12','13','14','15','17','18','19','20','21','22','23'])] = np.nan\n",
    "#drop the excess rows of NaN data\n",
    "df = df.dropna(axis=0,how='all')\n",
    "df.index.strftime('%H').unique()"
   ]
  },
  {
   "cell_type": "markdown",
   "id": "0ab392a5-3e92-4be5-a697-9674cb240e38",
   "metadata": {},
   "source": [
    "Additionally, the stations '4D16P Forrest Kerr Mid Elevation Snow', '4D17P Forrest Kerr High Elevation Snow' have data on the 00:00. These also appear not to have data on the 16:00. So, perhaps we can simply move those timestamps by the 16 hours to make them "
   ]
  },
  {
   "cell_type": "code",
   "execution_count": 107,
   "id": "b8e83b36-eb06-4cb5-84a9-d39270fe3b3c",
   "metadata": {},
   "outputs": [
    {
     "data": {
      "text/plain": [
       "Index(['1A02P McBride Upper', '1B02P Tahtsa Lake', '1B08P Mt. Pondosy',\n",
       "       '2F18P Brenda Mine', '3A25P Squamish River Upper', '3A28P Tetrahedron',\n",
       "       '4D16P Forrest Kerr Mid Elevation Snow',\n",
       "       '4D17P Forrest Kerr High Elevation Snow'],\n",
       "      dtype='object')"
      ]
     },
     "execution_count": 107,
     "metadata": {},
     "output_type": "execute_result"
    }
   ],
   "source": [
    "df[df.index.strftime('%H') == '00'].dropna(axis=1,how='all').columns"
   ]
  },
  {
   "cell_type": "code",
   "execution_count": 16,
   "id": "cf36428a-d09e-49c9-9547-9ab90fc1c35b",
   "metadata": {},
   "outputs": [
    {
     "ename": "KeyError",
     "evalue": "'DATE(UTC)'",
     "output_type": "error",
     "traceback": [
      "\u001b[0;31m---------------------------------------------------------------------------\u001b[0m",
      "\u001b[0;31mKeyError\u001b[0m                                  Traceback (most recent call last)",
      "File \u001b[0;32m~/Work/plotly_fuckery/lib/python3.8/site-packages/pandas/core/indexes/base.py:3653\u001b[0m, in \u001b[0;36mIndex.get_loc\u001b[0;34m(self, key)\u001b[0m\n\u001b[1;32m   3652\u001b[0m \u001b[38;5;28;01mtry\u001b[39;00m:\n\u001b[0;32m-> 3653\u001b[0m     \u001b[38;5;28;01mreturn\u001b[39;00m \u001b[38;5;28;43mself\u001b[39;49m\u001b[38;5;241;43m.\u001b[39;49m\u001b[43m_engine\u001b[49m\u001b[38;5;241;43m.\u001b[39;49m\u001b[43mget_loc\u001b[49m\u001b[43m(\u001b[49m\u001b[43mcasted_key\u001b[49m\u001b[43m)\u001b[49m\n\u001b[1;32m   3654\u001b[0m \u001b[38;5;28;01mexcept\u001b[39;00m \u001b[38;5;167;01mKeyError\u001b[39;00m \u001b[38;5;28;01mas\u001b[39;00m err:\n",
      "File \u001b[0;32m~/Work/plotly_fuckery/lib/python3.8/site-packages/pandas/_libs/index.pyx:147\u001b[0m, in \u001b[0;36mpandas._libs.index.IndexEngine.get_loc\u001b[0;34m()\u001b[0m\n",
      "File \u001b[0;32m~/Work/plotly_fuckery/lib/python3.8/site-packages/pandas/_libs/index.pyx:176\u001b[0m, in \u001b[0;36mpandas._libs.index.IndexEngine.get_loc\u001b[0;34m()\u001b[0m\n",
      "File \u001b[0;32mpandas/_libs/hashtable_class_helper.pxi:7080\u001b[0m, in \u001b[0;36mpandas._libs.hashtable.PyObjectHashTable.get_item\u001b[0;34m()\u001b[0m\n",
      "File \u001b[0;32mpandas/_libs/hashtable_class_helper.pxi:7088\u001b[0m, in \u001b[0;36mpandas._libs.hashtable.PyObjectHashTable.get_item\u001b[0;34m()\u001b[0m\n",
      "\u001b[0;31mKeyError\u001b[0m: 'DATE(UTC)'",
      "\nThe above exception was the direct cause of the following exception:\n",
      "\u001b[0;31mKeyError\u001b[0m                                  Traceback (most recent call last)",
      "Cell \u001b[0;32mIn[16], line 4\u001b[0m\n\u001b[1;32m      2\u001b[0m \u001b[38;5;28;01mdef\u001b[39;00m \u001b[38;5;21mdatetimepandas\u001b[39m(timestring):\n\u001b[1;32m      3\u001b[0m     \u001b[38;5;28;01mreturn\u001b[39;00m datetime\u001b[38;5;241m.\u001b[39mstrptime(timestring,\u001b[38;5;124m'\u001b[39m\u001b[38;5;124m%\u001b[39m\u001b[38;5;124mY-\u001b[39m\u001b[38;5;124m%\u001b[39m\u001b[38;5;124mm-\u001b[39m\u001b[38;5;132;01m%d\u001b[39;00m\u001b[38;5;124m \u001b[39m\u001b[38;5;124m%\u001b[39m\u001b[38;5;124mH:\u001b[39m\u001b[38;5;124m%\u001b[39m\u001b[38;5;124mM\u001b[39m\u001b[38;5;124m'\u001b[39m)\n\u001b[0;32m----> 4\u001b[0m df[\u001b[38;5;124m'\u001b[39m\u001b[38;5;124mDATE(UTC)\u001b[39m\u001b[38;5;124m'\u001b[39m]\u001b[38;5;241m=\u001b[39m\u001b[43mdf\u001b[49m\u001b[43m[\u001b[49m\u001b[38;5;124;43m'\u001b[39;49m\u001b[38;5;124;43mDATE(UTC)\u001b[39;49m\u001b[38;5;124;43m'\u001b[39;49m\u001b[43m]\u001b[49m\u001b[38;5;241m.\u001b[39mapply(datetimepandas)\n\u001b[1;32m      5\u001b[0m \u001b[38;5;66;03m#Melt the dataframe into a long format for plotting flexibility.\u001b[39;00m\n\u001b[1;32m      6\u001b[0m meltdf \u001b[38;5;241m=\u001b[39m pd\u001b[38;5;241m.\u001b[39mmelt(df,df\u001b[38;5;241m.\u001b[39mcolumns[\u001b[38;5;241m0\u001b[39m],df\u001b[38;5;241m.\u001b[39mcolumns[\u001b[38;5;241m1\u001b[39m:],var_name\u001b[38;5;241m=\u001b[39m\u001b[38;5;124m'\u001b[39m\u001b[38;5;124mSnow_Survey_Station\u001b[39m\u001b[38;5;124m'\u001b[39m,value_name\u001b[38;5;241m=\u001b[39m\u001b[38;5;124m'\u001b[39m\u001b[38;5;124mSnow_Amount\u001b[39m\u001b[38;5;124m'\u001b[39m)\n",
      "File \u001b[0;32m~/Work/plotly_fuckery/lib/python3.8/site-packages/pandas/core/frame.py:3761\u001b[0m, in \u001b[0;36mDataFrame.__getitem__\u001b[0;34m(self, key)\u001b[0m\n\u001b[1;32m   3759\u001b[0m \u001b[38;5;28;01mif\u001b[39;00m \u001b[38;5;28mself\u001b[39m\u001b[38;5;241m.\u001b[39mcolumns\u001b[38;5;241m.\u001b[39mnlevels \u001b[38;5;241m>\u001b[39m \u001b[38;5;241m1\u001b[39m:\n\u001b[1;32m   3760\u001b[0m     \u001b[38;5;28;01mreturn\u001b[39;00m \u001b[38;5;28mself\u001b[39m\u001b[38;5;241m.\u001b[39m_getitem_multilevel(key)\n\u001b[0;32m-> 3761\u001b[0m indexer \u001b[38;5;241m=\u001b[39m \u001b[38;5;28;43mself\u001b[39;49m\u001b[38;5;241;43m.\u001b[39;49m\u001b[43mcolumns\u001b[49m\u001b[38;5;241;43m.\u001b[39;49m\u001b[43mget_loc\u001b[49m\u001b[43m(\u001b[49m\u001b[43mkey\u001b[49m\u001b[43m)\u001b[49m\n\u001b[1;32m   3762\u001b[0m \u001b[38;5;28;01mif\u001b[39;00m is_integer(indexer):\n\u001b[1;32m   3763\u001b[0m     indexer \u001b[38;5;241m=\u001b[39m [indexer]\n",
      "File \u001b[0;32m~/Work/plotly_fuckery/lib/python3.8/site-packages/pandas/core/indexes/base.py:3655\u001b[0m, in \u001b[0;36mIndex.get_loc\u001b[0;34m(self, key)\u001b[0m\n\u001b[1;32m   3653\u001b[0m     \u001b[38;5;28;01mreturn\u001b[39;00m \u001b[38;5;28mself\u001b[39m\u001b[38;5;241m.\u001b[39m_engine\u001b[38;5;241m.\u001b[39mget_loc(casted_key)\n\u001b[1;32m   3654\u001b[0m \u001b[38;5;28;01mexcept\u001b[39;00m \u001b[38;5;167;01mKeyError\u001b[39;00m \u001b[38;5;28;01mas\u001b[39;00m err:\n\u001b[0;32m-> 3655\u001b[0m     \u001b[38;5;28;01mraise\u001b[39;00m \u001b[38;5;167;01mKeyError\u001b[39;00m(key) \u001b[38;5;28;01mfrom\u001b[39;00m \u001b[38;5;21;01merr\u001b[39;00m\n\u001b[1;32m   3656\u001b[0m \u001b[38;5;28;01mexcept\u001b[39;00m \u001b[38;5;167;01mTypeError\u001b[39;00m:\n\u001b[1;32m   3657\u001b[0m     \u001b[38;5;66;03m# If we have a listlike key, _check_indexing_error will raise\u001b[39;00m\n\u001b[1;32m   3658\u001b[0m     \u001b[38;5;66;03m#  InvalidIndexError. Otherwise we fall through and re-raise\u001b[39;00m\n\u001b[1;32m   3659\u001b[0m     \u001b[38;5;66;03m#  the TypeError.\u001b[39;00m\n\u001b[1;32m   3660\u001b[0m     \u001b[38;5;28mself\u001b[39m\u001b[38;5;241m.\u001b[39m_check_indexing_error(key)\n",
      "\u001b[0;31mKeyError\u001b[0m: 'DATE(UTC)'"
     ]
    }
   ],
   "source": [
    "#convert dates/times to timestamp before melting\n",
    "def datetimepandas(timestring):\n",
    "    return datetime.strptime(timestring,'%Y-%m-%d %H:%M')\n",
    "df['DATE(UTC)']=df['DATE(UTC)'].apply(datetimepandas)\n",
    "#Melt the dataframe into a long format for plotting flexibility.\n",
    "meltdf = pd.melt(df,df.columns[0],df.columns[1:],var_name='Snow_Survey_Station',value_name='Snow_Amount')\n",
    "\n",
    "#Get the min and mad date and years\n",
    "mindate = min(df['DATE(UTC)'])\n",
    "minyear = datetime.strftime(mindate,'%Y')\n",
    "maxdate = max(df['DATE(UTC)'])\n",
    "maxyear = datetime.strftime(maxdate,'%Y')\n",
    "print (mindate,maxdate,minyear,maxyear)\n",
    "df.tail()\n"
   ]
  },
  {
   "cell_type": "markdown",
   "id": "5d3328ad-87c9-4ec3-b7ad-0699bded7f4e",
   "metadata": {},
   "source": [
    "First, lets make a multi-year plot of the data for a given station along an axis that is the days of the water year."
   ]
  },
  {
   "cell_type": "code",
   "execution_count": 6,
   "id": "2c50419f-d3e9-4101-95dc-8300044f29ec",
   "metadata": {},
   "outputs": [
    {
     "data": {
      "text/plain": [
       "<DatetimeArray>\n",
       "['1967-10-01 16:00:00', '1967-10-02 16:00:00', '1967-10-03 16:00:00',\n",
       " '1967-10-04 16:00:00', '1967-10-05 16:00:00', '1967-10-06 16:00:00',\n",
       " '1967-10-07 16:00:00', '1967-10-08 16:00:00', '1967-10-09 16:00:00',\n",
       " '1967-10-10 16:00:00',\n",
       " ...\n",
       " '2023-09-26 00:00:00', '2023-09-26 16:00:00', '2023-09-27 00:00:00',\n",
       " '2023-09-27 16:00:00', '2023-09-28 00:00:00', '2023-09-28 16:00:00',\n",
       " '2023-09-29 00:00:00', '2023-09-29 16:00:00', '2023-09-30 00:00:00',\n",
       " '2023-09-30 16:00:00']\n",
       "Length: 30335, dtype: datetime64[ns]"
      ]
     },
     "execution_count": 6,
     "metadata": {},
     "output_type": "execute_result"
    }
   ],
   "source": [
    "#Make a column that is the days of the water year. Convert date to julian day\n",
    "df['DATE(UTC)'].unique()"
   ]
  },
  {
   "cell_type": "code",
   "execution_count": 5,
   "id": "042d7d66-cb33-4baf-ba5a-bf47da799a43",
   "metadata": {},
   "outputs": [
    {
     "data": {
      "text/html": [
       "\n",
       "        <iframe\n",
       "            width=\"100%\"\n",
       "            height=\"650\"\n",
       "            src=\"http://127.0.0.1:8049/\"\n",
       "            frameborder=\"0\"\n",
       "            allowfullscreen\n",
       "            \n",
       "        ></iframe>\n",
       "        "
      ],
      "text/plain": [
       "<IPython.lib.display.IFrame at 0x7f19a189a1c0>"
      ]
     },
     "metadata": {},
     "output_type": "display_data"
    },
    {
     "data": {
      "text/plain": [
       "Index(['1A02P McBride Upper', '1A03P Barkerville', '1A05P Longworth Upper',\n",
       "       '1A12P Kaza Lake', '1A14P Hedrick Lake', '1A15P Knudsen Lake',\n",
       "       '1A17P Revolution Creek', '1A19P Dome Mountain', '1B01P Mount Wells',\n",
       "       '1B02P Tahtsa Lake',\n",
       "       ...\n",
       "       '4C11P Bluff Creek', '4C20P Sierra Climate', '4C21P Two Island Climate',\n",
       "       '4C22P Kiwigana Climate', '4D08P Forrest-Kerr Creek',\n",
       "       '4D10P Tumeka Creek', '4D11P Kinaskan Lake', '4D14P Wade Lake',\n",
       "       '4D16P Forrest Kerr Mid Elevation Snow',\n",
       "       '4D17P Forrest Kerr High Elevation Snow'],\n",
       "      dtype='object', length=118)"
      ]
     },
     "execution_count": 5,
     "metadata": {},
     "output_type": "execute_result"
    }
   ],
   "source": [
    "app = Dash(__name__)\n",
    "app.layout = html.Div([\n",
    "    dcc.Dropdown(\n",
    "        df.columns[1:],\n",
    "        id='snow-station-name',\n",
    "        multi=True\n",
    "    )\n",
    "])    \n",
    "if __name__ == '__main__':\n",
    "    app.run(debug=True,port=8049)\n",
    "df.columns[1:]"
   ]
  },
  {
   "cell_type": "code",
   "execution_count": 62,
   "id": "b7d67b15-908c-43f2-8dcb-74c4099dd84b",
   "metadata": {},
   "outputs": [
    {
     "data": {
      "text/plain": [
       "DATE(UTC)              datetime64[ns]\n",
       "Snow_Survey_Station            object\n",
       "Snow_Amount                   float64\n",
       "dtype: object"
      ]
     },
     "execution_count": 62,
     "metadata": {},
     "output_type": "execute_result"
    }
   ],
   "source": [
    "meltdf.dtypes"
   ]
  },
  {
   "cell_type": "code",
   "execution_count": 63,
   "id": "084770a4-099a-4555-8f0e-ed26a7130697",
   "metadata": {},
   "outputs": [],
   "source": [
    "#lets extract the year, month and day from the date column.\n",
    "\n"
   ]
  }
 ],
 "metadata": {
  "kernelspec": {
   "display_name": "Python 3 (ipykernel)",
   "language": "python",
   "name": "python3"
  },
  "language_info": {
   "codemirror_mode": {
    "name": "ipython",
    "version": 3
   },
   "file_extension": ".py",
   "mimetype": "text/x-python",
   "name": "python",
   "nbconvert_exporter": "python",
   "pygments_lexer": "ipython3",
   "version": "3.8.10"
  }
 },
 "nbformat": 4,
 "nbformat_minor": 5
}
