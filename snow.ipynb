{
 "cells": [
  {
   "cell_type": "markdown",
   "id": "32ad028a-bd55-4ea7-98b1-bd5f7807ad5d",
   "metadata": {},
   "source": [
    "# Snow Data\n",
    "\n",
    "Tool to import archived snow data and manipulate it using python pandas. Eventually\n",
    "to plot with plotly/dash app of some kind."
   ]
  },
  {
   "cell_type": "code",
   "execution_count": 60,
   "id": "687c9a87-a8a5-4316-b4dd-690336269515",
   "metadata": {},
   "outputs": [
    {
     "name": "stdout",
     "output_type": "stream",
     "text": [
      "1967-10-01 16:00:00 2023-09-30 16:00:00 1967 2023\n"
     ]
    }
   ],
   "source": [
    "import pandas as pd\n",
    "from dash import Dash, html, dcc, Input, Output, callback\n",
    "\n",
    "from datetime import datetime\n",
    "\n",
    "df = pd.read_csv('/home/fanslow/Work/plotly_fuckery/snow/SW_DailyArchive.csv',parse_dates=True)\n",
    "\n",
    "#convert dates/times to timestamp before melting\n",
    "def datetimepandas(timestring):\n",
    "    return datetime.strptime(timestring,'%Y-%m-%d %H:%M')\n",
    "df['DATE(UTC)']=df['DATE(UTC)'].apply(datetimepandas)\n",
    "mindate = min(df['DATE(UTC)'])\n",
    "minyear = datetime.strftime(mindate,'%Y')\n",
    "maxdate = max(df['DATE(UTC)'])\n",
    "maxyear = datetime.strftime(maxdate,'%Y')\n",
    "print (mindate,maxdate,minyear,maxyear)\n",
    "#df.dtypes\n"
   ]
  },
  {
   "cell_type": "code",
   "execution_count": 65,
   "id": "042d7d66-cb33-4baf-ba5a-bf47da799a43",
   "metadata": {},
   "outputs": [
    {
     "data": {
      "text/html": [
       "\n",
       "        <iframe\n",
       "            width=\"100%\"\n",
       "            height=\"650\"\n",
       "            src=\"http://127.0.0.1:8048/\"\n",
       "            frameborder=\"0\"\n",
       "            allowfullscreen\n",
       "            \n",
       "        ></iframe>\n",
       "        "
      ],
      "text/plain": [
       "<IPython.lib.display.IFrame at 0x7f5e957a5b80>"
      ]
     },
     "metadata": {},
     "output_type": "display_data"
    }
   ],
   "source": [
    "meltdf = pd.melt(df,df.columns[0],df.columns[1:],var_name='Snow_Survey_Station',value_name='Snow_Amount')\n",
    "app = Dash(__name__)\n",
    "app.layout = html.Div([\n",
    "    dcc.Dropdown(\n",
    "        df.columns[1:],\n",
    "        id='snow-station-name',\n",
    "        multi=True\n",
    "    )\n",
    "])    \n",
    "if __name__ == '__main__':\n",
    "    app.run(debug=True,port=8048)\n",
    "#df.columns[1:]"
   ]
  },
  {
   "cell_type": "code",
   "execution_count": 62,
   "id": "b7d67b15-908c-43f2-8dcb-74c4099dd84b",
   "metadata": {},
   "outputs": [
    {
     "data": {
      "text/plain": [
       "DATE(UTC)              datetime64[ns]\n",
       "Snow_Survey_Station            object\n",
       "Snow_Amount                   float64\n",
       "dtype: object"
      ]
     },
     "execution_count": 62,
     "metadata": {},
     "output_type": "execute_result"
    }
   ],
   "source": [
    "meltdf.dtypes"
   ]
  },
  {
   "cell_type": "code",
   "execution_count": 63,
   "id": "084770a4-099a-4555-8f0e-ed26a7130697",
   "metadata": {},
   "outputs": [],
   "source": [
    "#lets extract the year, month and day from the date column.\n",
    "\n"
   ]
  }
 ],
 "metadata": {
  "kernelspec": {
   "display_name": "Python 3 (ipykernel)",
   "language": "python",
   "name": "python3"
  },
  "language_info": {
   "codemirror_mode": {
    "name": "ipython",
    "version": 3
   },
   "file_extension": ".py",
   "mimetype": "text/x-python",
   "name": "python",
   "nbconvert_exporter": "python",
   "pygments_lexer": "ipython3",
   "version": "3.8.10"
  }
 },
 "nbformat": 4,
 "nbformat_minor": 5
}
